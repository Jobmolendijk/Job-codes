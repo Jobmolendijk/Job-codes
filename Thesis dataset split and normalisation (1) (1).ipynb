{
 "cells": [
  {
   "cell_type": "code",
   "execution_count": 36,
   "id": "af17e2e9",
   "metadata": {},
   "outputs": [],
   "source": [
    "import pandas as pd\n",
    "import numpy as np\n",
    "import scipy.integrate\n",
    "import scipy.special\n",
    "from scipy.special import inv_boxcox\n",
    "from scipy import stats\n",
    "import seaborn as sns\n",
    "from scipy.stats import lognorm\n",
    "import matplotlib.pyplot as plt\n",
    "import pylab\n",
    "from sklearn.preprocessing import MinMaxScaler\n",
    "from sklearn.preprocessing import OrdinalEncoder"
   ]
  },
  {
   "cell_type": "code",
   "execution_count": 37,
   "id": "0b2f984f",
   "metadata": {},
   "outputs": [],
   "source": [
    "finaldataset_ind = pd.read_csv(\"../Downloads/finaldataset_ind.csv\")\n",
    "finaldataset_val = pd.read_csv(\"../Downloads/finaldataset_val.csv\")"
   ]
  },
  {
   "cell_type": "code",
   "execution_count": 38,
   "id": "3f81f622",
   "metadata": {},
   "outputs": [],
   "source": [
    "finaldataset_ind.drop(['Unnamed: 0'], axis=1, inplace=True)\n",
    "finaldataset_val.drop(['Unnamed: 0'], axis=1, inplace=True)"
   ]
  },
  {
   "cell_type": "code",
   "execution_count": 39,
   "id": "7cf2d440",
   "metadata": {},
   "outputs": [
    {
     "data": {
      "text/plain": [
       "(18917, 103)"
      ]
     },
     "execution_count": 39,
     "metadata": {},
     "output_type": "execute_result"
    }
   ],
   "source": [
    "finaldataset_ind.shape"
   ]
  },
  {
   "cell_type": "code",
   "execution_count": 40,
   "id": "21b0eb79",
   "metadata": {},
   "outputs": [
    {
     "data": {
      "text/plain": [
       "(18917, 105)"
      ]
     },
     "execution_count": 40,
     "metadata": {},
     "output_type": "execute_result"
    }
   ],
   "source": [
    "finaldataset_val.shape"
   ]
  },
  {
   "cell_type": "markdown",
   "id": "2d911920",
   "metadata": {},
   "source": [
    "__change features to categorical__"
   ]
  },
  {
   "cell_type": "code",
   "execution_count": 41,
   "id": "069e7378",
   "metadata": {},
   "outputs": [],
   "source": [
    "category_columns = ['sex', 'income', 'entrepreneur_freelancer', \n",
    "                     'entrepreneur_freelancer_alongside', 'one_person_business', 'income', \n",
    "                     'company_owner', 'partnership', 'partner_partnership', \n",
    "                     'private_limited_liability_company', 'other', 'none_work_situation', \n",
    "                     'early_retirement', 'zorgtoeslag', 'Ziektewetuitkering', \n",
    "                     'ANW', 'nabestaandenpensioen', 'orphan_pension', 'bijstand', \n",
    "                     'bijstand_zelfstandigen', 'IOAWIOAZ', 'WGA', 'invadility_pension', \n",
    "                     'kinderbijslag', 'none_benefit', 'income_realestate', 'student_grant', \n",
    "                     'student_loan', 'alimony_ex', 'alimony_children', 'study_allowance_parents', \n",
    "                     'allowence_family', 'dividend_stock_investment', 'interests', \n",
    "                     'none_sources', 'interest_loans', 'alimony_ex_paid', 'alimony_children_paid',\n",
    "                     'parental_support_paid', 'parental_support_paid_other', 'support_gift_paid', \n",
    "                     'big_purchase', 'no_arrears', 'rent_mortgage_arrears',  \n",
    "                     'general_utilities_arrear', 'other_arrears', 'months_arrears_rent', \n",
    "                     'months_arrears_general_utilities', 'partyvote', 'age_2', 'satisfaction_individual_2', \n",
    "                     'satisfaction_national_2', 'income_2', \n",
    "                     'gross_wages_amount_2', 'entrepreneur_freelancer_2', \n",
    "                     'entrepreneur_freelancer_alongside_2', 'one_person_business_2', \n",
    "                     'company_owner_2', 'partnership_2', 'partner_partnership_2', \n",
    "                     'private_limited_liability_company_2', 'other_2', 'none_work_situation_2', \n",
    "                     'zorgtoeslag_2', 'Ziektewetuitkering_2', \n",
    "                     'ANW_2', 'nabestaandenpensioen_2', 'bijstand_2', \n",
    "                     'bijstand_zelfstandigen_2', 'IOAWIOAZ_2', 'WGA_2', 'invadility_pension_2', \n",
    "                     'kinderbijslag_2', 'none_benefit_2', 'income_realestate_2', 'realestate_amount_2', 'student_grant_2', \n",
    "                     'amount_student_grant_2', 'student_loan_2', 'amount_student_loan_2', 'alimony_ex_2', \n",
    "                     'amount_alimony_ex_2', \n",
    "                     'alimony_children_2', 'amount_alimony_children_2', 'study_allowance_parents_2', \n",
    "                     'amount_study_allowance_parents_2', \n",
    "                     'allowence_family_2', 'amount_allowance_family_2', 'dividend_stock_investment_2', \n",
    "                     'amount_dividend_stock_investment_2',\n",
    "                     'interests_2', 'amount_interests_2', \n",
    "                     'none_sources_2', 'interest_loans_2', 'amount_interest_loans_2', 'parental_support_paid_other_2', \n",
    "                     'support_gift_paid_2', 'amount_support_gift_paid_2',\n",
    "                     'taxable_income_2', 'net_income_household_2', 'financial_situation_grade_2', \n",
    "                     'difficulty_life_grade_2', 'financial_situation_category_2', 'household_expenditure_2', \n",
    "                     'big_purchase_2', 'financial_situation_future_2', 'no_arrears_2', \n",
    "                     'rent_mortgage_arrears_2', 'amount_rent_mortgage_arrears_2', 'general_utilities_arrear_2', \n",
    "                     'amount_general_utilities_arrear_2',  \n",
    "                     'other_arrears_2', 'amount_other_arrears_2', 'months_arrears_rent_2', \n",
    "                     'months_arrears_general_utilities_2']"
   ]
  },
  {
   "cell_type": "markdown",
   "id": "7ffd1ff0",
   "metadata": {},
   "source": [
    "__category__"
   ]
  },
  {
   "cell_type": "code",
   "execution_count": 43,
   "id": "1eef232b",
   "metadata": {},
   "outputs": [],
   "source": [
    "for col in finaldataset_ind.columns:\n",
    "    for i in category_columns:\n",
    "        if col == i:\n",
    "            finaldataset_ind[col] = finaldataset_ind[col].astype('category')"
   ]
  },
  {
   "cell_type": "code",
   "execution_count": 44,
   "id": "36f388a4",
   "metadata": {},
   "outputs": [],
   "source": [
    "for col in finaldataset_val.columns:\n",
    "    for i in category_columns:\n",
    "        if col == i:\n",
    "            finaldataset_val[col] = finaldataset_val[col].astype('category')"
   ]
  },
  {
   "cell_type": "code",
   "execution_count": 46,
   "id": "4243cb2d",
   "metadata": {},
   "outputs": [
    {
     "data": {
      "text/plain": [
       "date                                   float64\n",
       "sex                                   category\n",
       "age                                    float64\n",
       "age_2                                 category\n",
       "satisfaction_individual                  int64\n",
       "                                        ...   \n",
       "months_arrears_rent                   category\n",
       "months_arrears_rent_2                 category\n",
       "months_arrears_general_utilities      category\n",
       "months_arrears_general_utilities_2    category\n",
       "partyvote                             category\n",
       "Length: 103, dtype: object"
      ]
     },
     "execution_count": 46,
     "metadata": {},
     "output_type": "execute_result"
    }
   ],
   "source": [
    "finaldataset_ind.dtypes"
   ]
  },
  {
   "cell_type": "markdown",
   "id": "277d2df4",
   "metadata": {},
   "source": [
    "# Split into train and test set (individual)"
   ]
  },
  {
   "cell_type": "code",
   "execution_count": 47,
   "id": "907d83cf",
   "metadata": {},
   "outputs": [],
   "source": [
    "test_set_ind = finaldataset_ind.loc[finaldataset_ind.date > 202105, :].copy()\n",
    "train_set_ind = finaldataset_ind.loc[finaldataset_ind.date < 202105, :].copy()\n",
    "test_set_val = finaldataset_val.loc[finaldataset_val.date > 202105, :].copy()\n",
    "train_set_val = finaldataset_val.loc[finaldataset_val.date < 202105, :].copy()"
   ]
  },
  {
   "cell_type": "code",
   "execution_count": 48,
   "id": "73100be4",
   "metadata": {},
   "outputs": [
    {
     "name": "stdout",
     "output_type": "stream",
     "text": [
      "(15200, 103)\n",
      "(3717, 103)\n",
      "(15200, 105)\n",
      "(3717, 105)\n"
     ]
    }
   ],
   "source": [
    "print(train_set_ind.shape)\n",
    "print(test_set_ind.shape)\n",
    "print(train_set_val.shape)\n",
    "print(test_set_val.shape)"
   ]
  },
  {
   "cell_type": "code",
   "execution_count": 49,
   "id": "218e0c6a",
   "metadata": {},
   "outputs": [
    {
     "data": {
      "text/plain": [
       "VVD      3068\n",
       "PvdA     2791\n",
       "CDA      2361\n",
       "SP       1873\n",
       "PVV      1279\n",
       "D66      1221\n",
       "GL        979\n",
       "CU        584\n",
       "other     418\n",
       "PvdD      300\n",
       "SGP       266\n",
       "blank      60\n",
       "Name: partyvote, dtype: int64"
      ]
     },
     "execution_count": 49,
     "metadata": {},
     "output_type": "execute_result"
    }
   ],
   "source": [
    "train_set_ind['partyvote'].value_counts()"
   ]
  },
  {
   "cell_type": "code",
   "execution_count": 50,
   "id": "0be0064e",
   "metadata": {},
   "outputs": [
    {
     "data": {
      "text/plain": [
       "<AxesSubplot:>"
      ]
     },
     "execution_count": 50,
     "metadata": {},
     "output_type": "execute_result"
    },
    {
     "data": {
      "image/png": "[encoded data removed]",
      "text/plain": [
       "<Figure size 640x480 with 1 Axes>"
      ]
     },
     "metadata": {},
     "output_type": "display_data"
    }
   ],
   "source": [
    "train_set_ind.partyvote.value_counts().plot.bar()"
   ]
  },
  {
   "cell_type": "code",
   "execution_count": 51,
   "id": "4da8a7dc",
   "metadata": {},
   "outputs": [
    {
     "data": {
      "text/plain": [
       "VVD      781\n",
       "D66      582\n",
       "other    487\n",
       "CDA      379\n",
       "PvdA     327\n",
       "PVV      301\n",
       "SP       260\n",
       "GL       219\n",
       "PvdD     172\n",
       "CU       140\n",
       "SGP       56\n",
       "blank     13\n",
       "Name: partyvote, dtype: int64"
      ]
     },
     "execution_count": 51,
     "metadata": {},
     "output_type": "execute_result"
    }
   ],
   "source": [
    "test_set_ind['partyvote'].value_counts()"
   ]
  },
  {
   "cell_type": "code",
   "execution_count": 52,
   "id": "dbf0f799",
   "metadata": {},
   "outputs": [
    {
     "data": {
      "text/plain": [
       "<AxesSubplot:>"
      ]
     },
     "execution_count": 52,
     "metadata": {},
     "output_type": "execute_result"
    },
    {
     "data": {
      "image/png": "[encoded data removed]",
      "text/plain": [
       "<Figure size 640x480 with 1 Axes>"
      ]
     },
     "metadata": {},
     "output_type": "display_data"
    }
   ],
   "source": [
    "test_set_ind.partyvote.value_counts().plot.bar()"
   ]
  },
  {
   "cell_type": "markdown",
   "id": "9a371dba",
   "metadata": {},
   "source": [
    "__calculate percentages of train and test split__"
   ]
  },
  {
   "cell_type": "code",
   "execution_count": 53,
   "id": "b4afa12f",
   "metadata": {},
   "outputs": [
    {
     "name": "stdout",
     "output_type": "stream",
     "text": [
      "80.35100703071312\n",
      "19.648992969286887\n"
     ]
    }
   ],
   "source": [
    "print(len(train_set_ind.index)/len(finaldataset_ind.index)*100)\n",
    "print(len(test_set_ind.index)/len(finaldataset_ind.index)*100)"
   ]
  },
  {
   "cell_type": "code",
   "execution_count": 54,
   "id": "f3f0aa34",
   "metadata": {},
   "outputs": [
    {
     "name": "stdout",
     "output_type": "stream",
     "text": [
      "80.35100703071312\n",
      "19.648992969286887\n"
     ]
    }
   ],
   "source": [
    "print(len(train_set_val.index)/len(finaldataset_val.index)*100)\n",
    "print(len(test_set_val.index)/len(finaldataset_val.index)*100)"
   ]
  },
  {
   "cell_type": "markdown",
   "id": "f9fa9fc9",
   "metadata": {},
   "source": [
    "&nbsp;\n"
   ]
  },
  {
   "cell_type": "markdown",
   "id": "4ba63738",
   "metadata": {},
   "source": [
    "&nbsp;"
   ]
  },
  {
   "cell_type": "markdown",
   "id": "7949de5e",
   "metadata": {},
   "source": [
    "# Box-Cox continuous non-normal variables"
   ]
  },
  {
   "cell_type": "code",
   "execution_count": 55,
   "id": "cbad75d4",
   "metadata": {},
   "outputs": [
    {
     "name": "stderr",
     "output_type": "stream",
     "text": [
      "C:\\Users\\Gebruiker\\anaconda3\\lib\\site-packages\\seaborn\\distributions.py:2619: FutureWarning: `distplot` is a deprecated function and will be removed in a future version. Please adapt your code to use either `displot` (a figure-level function with similar flexibility) or `kdeplot` (an axes-level function for kernel density plots).\n",
      "  warnings.warn(msg, FutureWarning)\n",
      "C:\\Users\\Gebruiker\\anaconda3\\lib\\site-packages\\seaborn\\distributions.py:2619: FutureWarning: `distplot` is a deprecated function and will be removed in a future version. Please adapt your code to use either `displot` (a figure-level function with similar flexibility) or `kdeplot` (an axes-level function for kernel density plots).\n",
      "  warnings.warn(msg, FutureWarning)\n"
     ]
    },
    {
     "name": "stdout",
     "output_type": "stream",
     "text": [
      "AxesSubplot(0.125,0.11;0.775x0.77)\n",
      "AxesSubplot(0.125,0.11;0.775x0.77)\n"
     ]
    },
    {
     "data": {
      "image/png": "[encoded data removed]",
      "text/plain": [
       "<Figure size 640x480 with 1 Axes>"
      ]
     },
     "metadata": {},
     "output_type": "display_data"
    }
   ],
   "source": [
    "print(sns.distplot(train_set_ind['taxable_income'], hist=False, kde=True)) \n",
    "print(sns.distplot(train_set_val['taxable_income'], hist=False, kde=True)) "
   ]
  },
  {
   "cell_type": "code",
   "execution_count": 56,
   "id": "3f5fc94a",
   "metadata": {},
   "outputs": [
    {
     "data": {
      "text/plain": [
       "6132     100000000.0\n",
       "15308    100000000.0\n",
       "4920      99999999.0\n",
       "5323      99999999.0\n",
       "5521      99999999.0\n",
       "7679      99999999.0\n",
       "8206      99999999.0\n",
       "10717     99999999.0\n",
       "12394     99999999.0\n",
       "17702     99999999.0\n",
       "18408     99999999.0\n",
       "13010      2358300.0\n",
       "7347       1781300.0\n",
       "6041       1317300.0\n",
       "9379       1317300.0\n",
       "12680      1317300.0\n",
       "12743      1317300.0\n",
       "11607      1204200.0\n",
       "5074       1034300.0\n",
       "6137       1034300.0\n",
       "Name: taxable_income, dtype: float64"
      ]
     },
     "execution_count": 56,
     "metadata": {},
     "output_type": "execute_result"
    }
   ],
   "source": [
    "train_set_ind['taxable_income'].nlargest(n=20)"
   ]
  },
  {
   "cell_type": "code",
   "execution_count": 57,
   "id": "08db8135",
   "metadata": {},
   "outputs": [
    {
     "data": {
      "text/plain": [
       "2460    99999999.0\n",
       "1329     2008000.0\n",
       "3190      600000.0\n",
       "290       550000.0\n",
       "3523      541000.0\n",
       "2125      485667.0\n",
       "403       325000.0\n",
       "1527      316704.0\n",
       "1757      300070.0\n",
       "3630      300070.0\n",
       "818       265058.0\n",
       "1207      262000.0\n",
       "12        250000.0\n",
       "2468      250000.0\n",
       "2536      250000.0\n",
       "2721      250000.0\n",
       "3697      250000.0\n",
       "719       241917.0\n",
       "1385      240000.0\n",
       "2853      240000.0\n",
       "Name: taxable_income, dtype: float64"
      ]
     },
     "execution_count": 57,
     "metadata": {},
     "output_type": "execute_result"
    }
   ],
   "source": [
    "test_set_ind['taxable_income'].nlargest(n=20)"
   ]
  },
  {
   "cell_type": "code",
   "execution_count": 58,
   "id": "d2371394",
   "metadata": {},
   "outputs": [
    {
     "name": "stderr",
     "output_type": "stream",
     "text": [
      "C:\\Users\\Gebruiker\\anaconda3\\lib\\site-packages\\seaborn\\distributions.py:2619: FutureWarning: `distplot` is a deprecated function and will be removed in a future version. Please adapt your code to use either `displot` (a figure-level function with similar flexibility) or `kdeplot` (an axes-level function for kernel density plots).\n",
      "  warnings.warn(msg, FutureWarning)\n",
      "C:\\Users\\Gebruiker\\anaconda3\\lib\\site-packages\\seaborn\\distributions.py:2619: FutureWarning: `distplot` is a deprecated function and will be removed in a future version. Please adapt your code to use either `displot` (a figure-level function with similar flexibility) or `kdeplot` (an axes-level function for kernel density plots).\n",
      "  warnings.warn(msg, FutureWarning)\n"
     ]
    },
    {
     "name": "stdout",
     "output_type": "stream",
     "text": [
      "AxesSubplot(0.125,0.11;0.775x0.77)\n",
      "AxesSubplot(0.125,0.11;0.775x0.77)\n"
     ]
    },
    {
     "data": {
      "image/png": "[encoded data removed]",
      "text/plain": [
       "<Figure size 640x480 with 1 Axes>"
      ]
     },
     "metadata": {},
     "output_type": "display_data"
    }
   ],
   "source": [
    "print(sns.distplot(train_set_ind['net_income_household'], hist=False, kde=True)) \n",
    "print(sns.distplot(train_set_val['net_income_household'], hist=False, kde=True)) "
   ]
  },
  {
   "cell_type": "code",
   "execution_count": 59,
   "id": "f4590269",
   "metadata": {},
   "outputs": [
    {
     "data": {
      "text/plain": [
       "7080     6000000.0\n",
       "16992    3052816.0\n",
       "7679     2709400.0\n",
       "8857     2709400.0\n",
       "11607    2709400.0\n",
       "12680    2709400.0\n",
       "8235     2375150.0\n",
       "13010    2375150.0\n",
       "15043    2375150.0\n",
       "15245    2375150.0\n",
       "12743    2140600.0\n",
       "13080    2137065.0\n",
       "15596    2137065.0\n",
       "3844     1936260.0\n",
       "4416     1936260.0\n",
       "6729     1936260.0\n",
       "9379     1936260.0\n",
       "10717    1936260.0\n",
       "11699    1936260.0\n",
       "12394    1936260.0\n",
       "Name: net_income_household, dtype: float64"
      ]
     },
     "execution_count": 59,
     "metadata": {},
     "output_type": "execute_result"
    }
   ],
   "source": [
    "train_set_ind['net_income_household'].nlargest(n=20)"
   ]
  },
  {
   "cell_type": "code",
   "execution_count": 60,
   "id": "467002e4",
   "metadata": {},
   "outputs": [
    {
     "data": {
      "text/plain": [
       "2460    1936260.0\n",
       "3299     980000.0\n",
       "1395     500000.0\n",
       "1819     333769.0\n",
       "2608     294684.0\n",
       "997      265000.0\n",
       "3339     265000.0\n",
       "555      264000.0\n",
       "1329     250000.0\n",
       "3396     250000.0\n",
       "227      233000.0\n",
       "253      232135.0\n",
       "3565     200000.0\n",
       "710      196537.0\n",
       "1511     190000.0\n",
       "1678     180000.0\n",
       "1757     180000.0\n",
       "3419     180000.0\n",
       "3064     165000.0\n",
       "1207     160000.0\n",
       "Name: net_income_household, dtype: float64"
      ]
     },
     "execution_count": 60,
     "metadata": {},
     "output_type": "execute_result"
    }
   ],
   "source": [
    "test_set_ind['net_income_household'].nlargest(n=20)"
   ]
  },
  {
   "cell_type": "markdown",
   "id": "7106b04e",
   "metadata": {},
   "source": [
    "__have to add constant to the value, because box-cox does not handle negative values__"
   ]
  },
  {
   "cell_type": "code",
   "execution_count": 61,
   "id": "69758c45",
   "metadata": {},
   "outputs": [],
   "source": [
    "min_train_tax_ind = min(train_set_ind['taxable_income'])\n",
    "min_test_tax_ind = min(test_set_ind['taxable_income'])\n",
    "\n",
    "min_train_house_ind = min(train_set_ind['net_income_household'])\n",
    "min_test_house_ind = min(test_set_ind['net_income_household'])"
   ]
  },
  {
   "cell_type": "code",
   "execution_count": 62,
   "id": "d39b4c16",
   "metadata": {},
   "outputs": [],
   "source": [
    "min_train_tax_val = min(train_set_val['taxable_income'])\n",
    "min_test_tax_val = min(test_set_val['taxable_income'])\n",
    "\n",
    "min_train_house_val = min(train_set_val['net_income_household'])\n",
    "min_test_house_val = min(test_set_val['net_income_household'])"
   ]
  },
  {
   "cell_type": "code",
   "execution_count": 63,
   "id": "70725480",
   "metadata": {},
   "outputs": [],
   "source": [
    "train_set_ind['taxable_income'] = train_set_ind['taxable_income'] - min_train_tax_ind + 1 \n",
    "test_set_ind['taxable_income'] = test_set_ind['taxable_income'] - min_test_tax_ind + 1\n",
    "\n",
    "train_set_ind['net_income_household'] = train_set_ind['net_income_household'] - min_train_house_ind + 1 \n",
    "test_set_ind['net_income_household'] = test_set_ind['net_income_household'] - min_test_house_ind + 1"
   ]
  },
  {
   "cell_type": "code",
   "execution_count": 64,
   "id": "a2ae6e2d",
   "metadata": {},
   "outputs": [],
   "source": [
    "train_set_val['taxable_income'] = train_set_val['taxable_income'] - min_train_tax_val + 1 \n",
    "test_set_val['taxable_income'] = test_set_val['taxable_income'] - min_test_tax_val + 1\n",
    "\n",
    "train_set_val['net_income_household'] = train_set_val['net_income_household'] - min_train_house_val + 1 \n",
    "test_set_val['net_income_household'] = test_set_val['net_income_household'] - min_test_house_val + 1"
   ]
  },
  {
   "cell_type": "code",
   "execution_count": 65,
   "id": "66d5075b",
   "metadata": {},
   "outputs": [],
   "source": [
    "fitted_data_train2_ind, fitted_lambda_train2_ind = stats.boxcox(train_set_ind['taxable_income'])\n",
    "fitted_data_test2_ind, fitted_lambda_test2_ind = stats.boxcox(test_set_ind['taxable_income'])\n",
    "\n",
    "fitted_data_train3_ind, fitted_lambda_train3_ind = stats.boxcox(train_set_ind['net_income_household'])\n",
    "fitted_data_test3_ind, fitted_lambda_test3_ind = stats.boxcox(test_set_ind['net_income_household'])"
   ]
  },
  {
   "cell_type": "code",
   "execution_count": 66,
   "id": "c0cf744a",
   "metadata": {},
   "outputs": [],
   "source": [
    "fitted_data_train2_val, fitted_lambda_train2_val = stats.boxcox(train_set_val['taxable_income'])\n",
    "fitted_data_test2_val, fitted_lambda_test2_val = stats.boxcox(test_set_val['taxable_income'])\n",
    "\n",
    "fitted_data_train3_val, fitted_lambda_train3_val = stats.boxcox(train_set_val['net_income_household'])\n",
    "fitted_data_test3_val, fitted_lambda_test3_val = stats.boxcox(test_set_val['net_income_household'])"
   ]
  },
  {
   "cell_type": "markdown",
   "id": "044c9955",
   "metadata": {},
   "source": [
    "__Lambda value (power to which data raised)__"
   ]
  },
  {
   "cell_type": "code",
   "execution_count": 67,
   "id": "0d22b1e2",
   "metadata": {},
   "outputs": [
    {
     "name": "stdout",
     "output_type": "stream",
     "text": [
      "Lambda value used for Transformation train(taxable_income individual): -0.0033908463992051003\n",
      "Lambda value used for Transformation test(taxable_income individual): 0.03971085829482462\n",
      "Lambda value used for Transformation train(net_income_household individual): 0.06002850452231695\n",
      "Lambda value used for Transformation test(net_income_household individual): 0.2010739969437639\n"
     ]
    }
   ],
   "source": [
    "print(f\"Lambda value used for Transformation train(taxable_income individual): {fitted_lambda_train2_ind}\")\n",
    "print(f\"Lambda value used for Transformation test(taxable_income individual): {fitted_lambda_test2_ind}\")\n",
    "\n",
    "print(f\"Lambda value used for Transformation train(net_income_household individual): {fitted_lambda_train3_ind}\")\n",
    "print(f\"Lambda value used for Transformation test(net_income_household individual): {fitted_lambda_test3_ind}\")"
   ]
  },
  {
   "cell_type": "code",
   "execution_count": 68,
   "id": "e591bb26",
   "metadata": {},
   "outputs": [
    {
     "name": "stdout",
     "output_type": "stream",
     "text": [
      "Lambda value used for Transformation train(taxable_income valence): -0.058498642802253524\n",
      "Lambda value used for Transformation test(taxable_income valence): 0.040797955740619805\n",
      "Lambda value used for Transformation train(net_income_household valence): 0.08153411792677799\n",
      "Lambda value used for Transformation test(net_income_household valence): 0.3458587776029604\n"
     ]
    }
   ],
   "source": [
    "print(f\"Lambda value used for Transformation train(taxable_income valence): {fitted_lambda_train2_val}\")\n",
    "print(f\"Lambda value used for Transformation test(taxable_income valence): {fitted_lambda_test2_val}\")\n",
    "\n",
    "print(f\"Lambda value used for Transformation train(net_income_household valence): {fitted_lambda_train3_val}\")\n",
    "print(f\"Lambda value used for Transformation test(net_income_household valence): {fitted_lambda_test3_val}\")"
   ]
  },
  {
   "cell_type": "markdown",
   "id": "5f1c9c05",
   "metadata": {},
   "source": [
    "__apply to variables__"
   ]
  },
  {
   "cell_type": "code",
   "execution_count": 69,
   "id": "7af598e3",
   "metadata": {},
   "outputs": [],
   "source": [
    "train_set_ind['taxable_income'] = scipy.special.inv_boxcox(train_set_ind['taxable_income'], fitted_data_train2_ind)\n",
    "test_set_ind['taxable_income'] = scipy.special.inv_boxcox(test_set_ind['taxable_income'], fitted_data_test2_ind)\n",
    "train_set_ind['net_income_household'] = scipy.special.inv_boxcox(train_set_ind['net_income_household'], fitted_data_train3_ind)\n",
    "test_set_ind['net_income_household'] = scipy.special.inv_boxcox(test_set_ind['net_income_household'], fitted_data_test3_ind)"
   ]
  },
  {
   "cell_type": "code",
   "execution_count": 70,
   "id": "0a273670",
   "metadata": {},
   "outputs": [],
   "source": [
    "train_set_val['taxable_income'] = scipy.special.inv_boxcox(train_set_val['taxable_income'], fitted_data_train2_val)\n",
    "test_set_val['taxable_income'] = scipy.special.inv_boxcox(test_set_val['taxable_income'], fitted_data_test2_val)\n",
    "train_set_val['net_income_household'] = scipy.special.inv_boxcox(train_set_val['net_income_household'], fitted_data_train3_val)\n",
    "test_set_val['net_income_household'] = scipy.special.inv_boxcox(test_set_val['net_income_household'], fitted_data_test3_val)"
   ]
  },
  {
   "cell_type": "code",
   "execution_count": 71,
   "id": "c09f2519",
   "metadata": {},
   "outputs": [
    {
     "name": "stderr",
     "output_type": "stream",
     "text": [
      "C:\\Users\\Gebruiker\\anaconda3\\lib\\site-packages\\seaborn\\distributions.py:2619: FutureWarning: `distplot` is a deprecated function and will be removed in a future version. Please adapt your code to use either `displot` (a figure-level function with similar flexibility) or `kdeplot` (an axes-level function for kernel density plots).\n",
      "  warnings.warn(msg, FutureWarning)\n",
      "C:\\Users\\Gebruiker\\anaconda3\\lib\\site-packages\\seaborn\\distributions.py:2619: FutureWarning: `distplot` is a deprecated function and will be removed in a future version. Please adapt your code to use either `displot` (a figure-level function with similar flexibility) or `kdeplot` (an axes-level function for kernel density plots).\n",
      "  warnings.warn(msg, FutureWarning)\n"
     ]
    },
    {
     "data": {
      "text/plain": [
       "<AxesSubplot:xlabel='taxable_income', ylabel='Density'>"
      ]
     },
     "execution_count": 71,
     "metadata": {},
     "output_type": "execute_result"
    },
    {
     "data": {
      "image/png": "[encoded data removed]",
      "text/plain": [
       "<Figure size 640x480 with 1 Axes>"
      ]
     },
     "metadata": {},
     "output_type": "display_data"
    }
   ],
   "source": [
    "sns.distplot(train_set_ind['taxable_income'], hist=False, kde=True) \n",
    "sns.distplot(train_set_val['taxable_income'], hist=False, kde=True) "
   ]
  },
  {
   "cell_type": "code",
   "execution_count": 72,
   "id": "c4e6327d",
   "metadata": {},
   "outputs": [
    {
     "name": "stderr",
     "output_type": "stream",
     "text": [
      "C:\\Users\\Gebruiker\\anaconda3\\lib\\site-packages\\seaborn\\distributions.py:2619: FutureWarning: `distplot` is a deprecated function and will be removed in a future version. Please adapt your code to use either `displot` (a figure-level function with similar flexibility) or `kdeplot` (an axes-level function for kernel density plots).\n",
      "  warnings.warn(msg, FutureWarning)\n",
      "C:\\Users\\Gebruiker\\anaconda3\\lib\\site-packages\\seaborn\\distributions.py:2619: FutureWarning: `distplot` is a deprecated function and will be removed in a future version. Please adapt your code to use either `displot` (a figure-level function with similar flexibility) or `kdeplot` (an axes-level function for kernel density plots).\n",
      "  warnings.warn(msg, FutureWarning)\n"
     ]
    },
    {
     "data": {
      "text/plain": [
       "<AxesSubplot:xlabel='net_income_household', ylabel='Density'>"
      ]
     },
     "execution_count": 72,
     "metadata": {},
     "output_type": "execute_result"
    },
    {
     "data": {
      "image/png": "[encoded data removed]",
      "text/plain": [
       "<Figure size 640x480 with 1 Axes>"
      ]
     },
     "metadata": {},
     "output_type": "display_data"
    }
   ],
   "source": [
    "sns.distplot(train_set_ind['net_income_household'], hist=False, kde=True) \n",
    "sns.distplot(train_set_val['net_income_household'], hist=False, kde=True) "
   ]
  },
  {
   "cell_type": "markdown",
   "id": "4ecb0170",
   "metadata": {},
   "source": [
    "&nbsp;"
   ]
  },
  {
   "cell_type": "markdown",
   "id": "37ec052e",
   "metadata": {},
   "source": [
    "&nbsp;"
   ]
  },
  {
   "cell_type": "markdown",
   "id": "00bb106d",
   "metadata": {},
   "source": [
    "# minmax scale continuous variables"
   ]
  },
  {
   "cell_type": "code",
   "execution_count": 73,
   "id": "578c9667",
   "metadata": {},
   "outputs": [],
   "source": [
    "scaler = MinMaxScaler()"
   ]
  },
  {
   "cell_type": "code",
   "execution_count": 74,
   "id": "c94f401d",
   "metadata": {},
   "outputs": [],
   "source": [
    "train_set_ind[['taxable_income','net_income_household']] = scaler.fit_transform(train_set_ind[['taxable_income','net_income_household']])\n",
    "test_set_ind[['taxable_income','net_income_household']] = scaler.fit_transform(test_set_ind[['taxable_income','net_income_household']])\n",
    "train_set_val[['taxable_income','net_income_household', 'GDP', 'unemployment', 'inflation']] = scaler.fit_transform(train_set_val[['taxable_income','net_income_household', 'GDP', 'unemployment', 'inflation']])\n",
    "test_set_val[['taxable_income','net_income_household', 'GDP', 'unemployment', 'inflation']] = scaler.fit_transform(test_set_val[['taxable_income','net_income_household', 'GDP', 'unemployment', 'inflation']])"
   ]
  },
  {
   "cell_type": "code",
   "execution_count": 75,
   "id": "b9c1636a",
   "metadata": {},
   "outputs": [
    {
     "name": "stdout",
     "output_type": "stream",
     "text": [
      "0.0\n",
      "0.0\n",
      "0.0\n",
      "0.0\n",
      "0.0\n"
     ]
    }
   ],
   "source": [
    "print(min(train_set_val['taxable_income']))\n",
    "print(min(train_set_val['net_income_household']))\n",
    "print(min(train_set_val['GDP']))\n",
    "print(min(train_set_val['unemployment']))\n",
    "print(min(train_set_val['inflation']))"
   ]
  },
  {
   "cell_type": "code",
   "execution_count": 76,
   "id": "0bf1ecbe",
   "metadata": {},
   "outputs": [
    {
     "name": "stdout",
     "output_type": "stream",
     "text": [
      "1.0\n",
      "1.0\n",
      "1.0\n",
      "1.0\n",
      "1.0\n"
     ]
    }
   ],
   "source": [
    "print(max(train_set_val['taxable_income']))\n",
    "print(max(train_set_val['net_income_household']))\n",
    "print(max(train_set_val['GDP']))\n",
    "print(max(train_set_val['unemployment']))\n",
    "print(max(train_set_val['inflation']))"
   ]
  },
  {
   "cell_type": "markdown",
   "id": "f9a044dc",
   "metadata": {},
   "source": [
    "&nbsp;"
   ]
  },
  {
   "cell_type": "markdown",
   "id": "fef63db3",
   "metadata": {},
   "source": [
    "# Create dataframes with progressively dropped respondents with invalid answers"
   ]
  },
  {
   "cell_type": "code",
   "execution_count": 77,
   "id": "d0fcf29e",
   "metadata": {},
   "outputs": [],
   "source": [
    "duplicate_columns = ['satisfaction_individual_2', 'satisfaction_national_2', 'income_2', \n",
    "                     'entrepreneur_freelancer_2', \n",
    "                     'entrepreneur_freelancer_alongside_2', 'one_person_business_2', \n",
    "                     'company_owner_2', 'partnership_2', 'partner_partnership_2', \n",
    "                     'private_limited_liability_company_2', 'other_2', 'none_work_situation_2', \n",
    "                     'zorgtoeslag_2', 'Ziektewetuitkering_2', \n",
    "                     'ANW_2', 'nabestaandenpensioen_2', 'bijstand_2', \n",
    "                     'bijstand_zelfstandigen_2', 'IOAWIOAZ_2', 'WGA_2', 'invadility_pension_2', \n",
    "                     'kinderbijslag_2', 'none_benefit_2', 'income_realestate_2', 'student_grant_2', \n",
    "                     'student_loan_2', 'alimony_ex_2',  \n",
    "                     'alimony_children_2', 'study_allowance_parents_2', \n",
    "                     'allowence_family_2', 'dividend_stock_investment_2', \n",
    "                     'interests_2', \n",
    "                     'none_sources_2', 'interest_loans_2',  \n",
    "                     'support_gift_paid_2', \n",
    "                     'taxable_income_2', 'net_income_household_2', 'financial_situation_grade_2', \n",
    "                     'difficulty_life_grade_2', 'financial_situation_category_2', 'household_expenditure_2', \n",
    "                     'big_purchase_2', 'financial_situation_future_2', 'no_arrears_2', \n",
    "                     'rent_mortgage_arrears_2', 'general_utilities_arrear_2', \n",
    "                     'other_arrears_2', 'months_arrears_rent_2', \n",
    "                     'months_arrears_general_utilities_2']"
   ]
  },
  {
   "cell_type": "markdown",
   "id": "babb77be",
   "metadata": {},
   "source": [
    "__create first subsets (individual)__"
   ]
  },
  {
   "cell_type": "code",
   "execution_count": 78,
   "id": "0d023ab6",
   "metadata": {},
   "outputs": [],
   "source": [
    "subset1_ind = train_set_ind.loc[train_set_ind['satisfaction_individual_2'] != 2]"
   ]
  },
  {
   "cell_type": "code",
   "execution_count": 79,
   "id": "f69bfc97",
   "metadata": {},
   "outputs": [],
   "source": [
    "for x in duplicate_columns:\n",
    "    subset1_ind = subset1_ind.loc[subset1_ind[x] != 2]"
   ]
  },
  {
   "cell_type": "code",
   "execution_count": 80,
   "id": "9e6f79a3",
   "metadata": {},
   "outputs": [
    {
     "data": {
      "text/plain": [
       "(13870, 103)"
      ]
     },
     "execution_count": 80,
     "metadata": {},
     "output_type": "execute_result"
    }
   ],
   "source": [
    "subset1_ind.shape"
   ]
  },
  {
   "cell_type": "markdown",
   "id": "31d26b19",
   "metadata": {},
   "source": [
    "__create second subsets (individual)__"
   ]
  },
  {
   "cell_type": "code",
   "execution_count": 81,
   "id": "c50192cb",
   "metadata": {},
   "outputs": [],
   "source": [
    "subset2_ind = subset1_ind.loc[subset1_ind['satisfaction_individual_2'] != 1]"
   ]
  },
  {
   "cell_type": "code",
   "execution_count": 82,
   "id": "95b562ed",
   "metadata": {},
   "outputs": [],
   "source": [
    "for x in duplicate_columns:\n",
    "    subset2_ind = subset2_ind.loc[subset2_ind[x] != 1]"
   ]
  },
  {
   "cell_type": "code",
   "execution_count": 83,
   "id": "e2402234",
   "metadata": {},
   "outputs": [
    {
     "data": {
      "text/plain": [
       "(5800, 103)"
      ]
     },
     "execution_count": 83,
     "metadata": {},
     "output_type": "execute_result"
    }
   ],
   "source": [
    "subset2_ind.shape"
   ]
  },
  {
   "cell_type": "markdown",
   "id": "83977305",
   "metadata": {},
   "source": [
    "__create third subsets (individual)__"
   ]
  },
  {
   "cell_type": "code",
   "execution_count": 84,
   "id": "6de223ab",
   "metadata": {},
   "outputs": [],
   "source": [
    "subset3_ind = subset2_ind.loc[subset2_ind['satisfaction_individual_2'] != 0]"
   ]
  },
  {
   "cell_type": "code",
   "execution_count": 85,
   "id": "17676adf",
   "metadata": {},
   "outputs": [],
   "source": [
    "for x in duplicate_columns:\n",
    "    subset3_ind = subset3_ind.loc[subset3_ind[x] != 0]"
   ]
  },
  {
   "cell_type": "code",
   "execution_count": 86,
   "id": "efd94cff",
   "metadata": {},
   "outputs": [
    {
     "data": {
      "text/plain": [
       "(4955, 103)"
      ]
     },
     "execution_count": 86,
     "metadata": {},
     "output_type": "execute_result"
    }
   ],
   "source": [
    "subset3_ind.shape"
   ]
  },
  {
   "cell_type": "markdown",
   "id": "944a1fb7",
   "metadata": {},
   "source": [
    "__create first subsets (valence)__"
   ]
  },
  {
   "cell_type": "code",
   "execution_count": 87,
   "id": "d157c916",
   "metadata": {},
   "outputs": [],
   "source": [
    "subset1_val = train_set_val.loc[train_set_val['satisfaction_individual_2'] != 2]"
   ]
  },
  {
   "cell_type": "code",
   "execution_count": 88,
   "id": "abe9973f",
   "metadata": {},
   "outputs": [],
   "source": [
    "for x in duplicate_columns:\n",
    "    subset1_val = subset1_val.loc[subset1_val[x] != 2]"
   ]
  },
  {
   "cell_type": "code",
   "execution_count": 89,
   "id": "bda3bfd0",
   "metadata": {},
   "outputs": [
    {
     "data": {
      "text/plain": [
       "(13870, 105)"
      ]
     },
     "execution_count": 89,
     "metadata": {},
     "output_type": "execute_result"
    }
   ],
   "source": [
    "subset1_val.shape"
   ]
  },
  {
   "cell_type": "markdown",
   "id": "1515ee29",
   "metadata": {},
   "source": [
    "__create second subsets (valence)__"
   ]
  },
  {
   "cell_type": "code",
   "execution_count": 90,
   "id": "2c7b842f",
   "metadata": {},
   "outputs": [],
   "source": [
    "subset2_val = subset1_val.loc[subset1_val['satisfaction_individual_2'] != 1]"
   ]
  },
  {
   "cell_type": "code",
   "execution_count": 91,
   "id": "bb60d43c",
   "metadata": {},
   "outputs": [],
   "source": [
    "for x in duplicate_columns:\n",
    "    subset2_val = subset2_val.loc[subset2_val[x] != 1]"
   ]
  },
  {
   "cell_type": "code",
   "execution_count": 92,
   "id": "213108ea",
   "metadata": {},
   "outputs": [
    {
     "data": {
      "text/plain": [
       "(5800, 105)"
      ]
     },
     "execution_count": 92,
     "metadata": {},
     "output_type": "execute_result"
    }
   ],
   "source": [
    "subset2_val.shape"
   ]
  },
  {
   "cell_type": "markdown",
   "id": "7ff64ca5",
   "metadata": {},
   "source": [
    "__create third subsets (valence)__"
   ]
  },
  {
   "cell_type": "code",
   "execution_count": 93,
   "id": "910d597a",
   "metadata": {},
   "outputs": [],
   "source": [
    "subset3_val = subset2_val.loc[subset2_val['satisfaction_individual_2'] != 0]"
   ]
  },
  {
   "cell_type": "code",
   "execution_count": 94,
   "id": "f01f167d",
   "metadata": {},
   "outputs": [],
   "source": [
    "for x in duplicate_columns:\n",
    "    subset3_val = subset3_val.loc[subset3_val[x] != 0]"
   ]
  },
  {
   "cell_type": "code",
   "execution_count": 95,
   "id": "9eaee5dd",
   "metadata": {},
   "outputs": [
    {
     "data": {
      "text/plain": [
       "(4955, 105)"
      ]
     },
     "execution_count": 95,
     "metadata": {},
     "output_type": "execute_result"
    }
   ],
   "source": [
    "subset3_val.shape"
   ]
  },
  {
   "cell_type": "markdown",
   "id": "b443ef5c",
   "metadata": {},
   "source": [
    "&nbsp;"
   ]
  },
  {
   "cell_type": "markdown",
   "id": "af8ad067",
   "metadata": {},
   "source": [
    "# Save all dataframes for algorithms notebook"
   ]
  },
  {
   "cell_type": "code",
   "execution_count": 99,
   "id": "d4599f54",
   "metadata": {},
   "outputs": [],
   "source": [
    "train_set_ind.to_csv('train_set_ind.csv')"
   ]
  },
  {
   "cell_type": "code",
   "execution_count": 100,
   "id": "94f06cac",
   "metadata": {},
   "outputs": [],
   "source": [
    "test_set_ind.to_csv('test_set_ind.csv')"
   ]
  },
  {
   "cell_type": "code",
   "execution_count": 101,
   "id": "a6cb2a84",
   "metadata": {},
   "outputs": [],
   "source": [
    "train_set_val.to_csv('train_set_val.csv')"
   ]
  },
  {
   "cell_type": "code",
   "execution_count": 102,
   "id": "c3cc6b50",
   "metadata": {},
   "outputs": [],
   "source": [
    "test_set_val.to_csv('test_set_val.csv')"
   ]
  },
  {
   "cell_type": "code",
   "execution_count": 103,
   "id": "b4e88bb8",
   "metadata": {},
   "outputs": [],
   "source": [
    "subset1_ind.to_csv('subset1_ind.csv')"
   ]
  },
  {
   "cell_type": "code",
   "execution_count": 104,
   "id": "de454373",
   "metadata": {},
   "outputs": [],
   "source": [
    "subset2_ind.to_csv('subset2_ind.csv')"
   ]
  },
  {
   "cell_type": "code",
   "execution_count": 105,
   "id": "57da9379",
   "metadata": {},
   "outputs": [],
   "source": [
    "subset3_ind.to_csv('subset3_ind.csv')"
   ]
  },
  {
   "cell_type": "code",
   "execution_count": 106,
   "id": "99d9df14",
   "metadata": {},
   "outputs": [],
   "source": [
    "subset1_val.to_csv('subset1_val.csv')"
   ]
  },
  {
   "cell_type": "code",
   "execution_count": 107,
   "id": "19aaad5a",
   "metadata": {},
   "outputs": [],
   "source": [
    "subset2_val.to_csv('subset2_val.csv')"
   ]
  },
  {
   "cell_type": "code",
   "execution_count": 108,
   "id": "d68915c7",
   "metadata": {},
   "outputs": [],
   "source": [
    "subset3_val.to_csv('subset3_val.csv')"
   ]
  }
 ],
 "metadata": {
  "kernelspec": {
   "display_name": "Python 3 (ipykernel)",
   "language": "python",
   "name": "python3"
  },
  "language_info": {
   "codemirror_mode": {
    "name": "ipython",
    "version": 3
   },
   "file_extension": ".py",
   "mimetype": "text/x-python",
   "name": "python",
   "nbconvert_exporter": "python",
   "pygments_lexer": "ipython3",
   "version": "3.8.8"
  }
 },
 "nbformat": 4,
 "nbformat_minor": 5
}
